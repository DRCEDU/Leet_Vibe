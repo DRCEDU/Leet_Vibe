{
 "cells": [
  {
   "cell_type": "markdown",
   "metadata": {},
   "source": [
    "# House Robber - Dynamic Programming Solution\n",
    "\n",
    "## Problem Description\n",
    "You are a professional robber planning to rob houses along a street. Each house has a certain amount of money stashed. The only constraint stopping you from robbing each of them is that adjacent houses have security systems connected and **it will automatically contact the police if two adjacent houses were broken into on the same night**.\n",
    "\n",
    "Given an integer array `nums` representing the amount of money of each house, return the maximum amount of money you can rob tonight **without alerting the police**."
   ]
  },
  {
   "cell_type": "markdown",
   "metadata": {},
   "source": [
    "## Solution Implementation"
   ]
  },
  {
   "cell_type": "code",
   "execution_count": null,
   "metadata": {},
   "outputs": [],
   "source": [
    "def rob(nums):\n",
    "    \"\"\"\n",
    "    Dynamic Programming solution for House Robber problem\n",
    "    Time Complexity: O(n)\n",
    "    Space Complexity: O(1)\n",
    "    \"\"\"\n",
    "    if not nums:\n",
    "        return 0\n",
    "    \n",
    "    n = len(nums)\n",
    "    if n == 1:\n",
    "        return nums[0]\n",
    "    \n",
    "    # prev2 represents dp[i-2], prev1 represents dp[i-1]\n",
    "    prev2 = nums[0]  # Maximum money up to house 0\n",
    "    prev1 = max(nums[0], nums[1])  # Maximum money up to house 1\n",
    "    \n",
    "    for i in range(2, n):\n",
    "        # Either rob current house + best up to i-2, or skip current house\n",
    "        curr = max(prev1, prev2 + nums[i])\n",
    "        prev2 = prev1\n",
    "        prev1 = curr\n",
    "    \n",
    "    return prev1"
   ]
  },
  {
   "cell_type": "markdown",
   "metadata": {},
   "source": [
    "## Dry Run with Detailed Visualization"
   ]
  },
  {
   "cell_type": "code",
   "execution_count": null,
   "metadata": {},
   "outputs": [],
   "source": [
    "def rob_with_visualization(nums):\n",
    "    \"\"\"\n",
    "    House Robber with step-by-step visualization\n",
    "    \"\"\"\n",
    "    print(f\"Input: nums = {nums}\")\n",
    "    print(f\"Houses: {' '.join([f'{i:2d}' for i in range(len(nums))])}\")\n",
    "    print(f\"Money:  {' '.join([f'{x:2d}' for x in nums])}\")\n",
    "    print(\"=\" * 50)\n",
    "    \n",
    "    if not nums:\n",
    "        print(\"No houses to rob!\")\n",
    "        return 0\n",
    "    \n",
    "    n = len(nums)\n",
    "    if n == 1:\n",
    "        print(f\"Only one house: rob house 0 with ${nums[0]}\")\n",
    "        return nums[0]\n",
    "    \n",
    "    # Initialize base cases\n",
    "    prev2 = nums[0]\n",
    "    prev1 = max(nums[0], nums[1])\n",
    "    \n",
    "    print(f\"Base cases:\")\n",
    "    print(f\"  dp[0] = {prev2} (rob house 0)\")\n",
    "    print(f\"  dp[1] = max({nums[0]}, {nums[1]}) = {prev1} (choose better of first two houses)\")\n",
    "    print()\n",
    "    \n",
    "    # Process remaining houses\n",
    "    for i in range(2, n):\n",
    "        option1 = prev1  # Don't rob current house\n",
    "        option2 = prev2 + nums[i]  # Rob current house\n",
    "        curr = max(option1, option2)\n",
    "        \n",
    "        print(f\"House {i} (money = ${nums[i]}):\")\n",
    "        print(f\"  Option 1: Don't rob house {i} = {option1}\")\n",
    "        print(f\"  Option 2: Rob house {i} = {prev2} + {nums[i]} = {option2}\")\n",
    "        print(f\"  Best choice: max({option1}, {option2}) = {curr}\")\n",
    "        \n",
    "        if curr == option2:\n",
    "            print(f\"  → Rob house {i}\")\n",
    "        else:\n",
    "            print(f\"  → Skip house {i}\")\n",
    "        print()\n",
    "        \n",
    "        prev2 = prev1\n",
    "        prev1 = curr\n",
    "    \n",
    "    print(f\"Maximum money that can be robbed: ${prev1}\")\n",
    "    return prev1"
   ]
  },
  {
   "cell_type": "markdown",
   "metadata": {},
   "source": [
    "## Test Case 1: [2, 7, 9, 3, 1]"
   ]
  },
  {
   "cell_type": "code",
   "execution_count": null,
   "metadata": {},
   "outputs": [],
   "source": [
    "test1 = [2, 7, 9, 3, 1]\n",
    "result1 = rob_with_visualization(test1)\n",
    "print(f\"\\nExpected: 12, Got: {result1}\")\n",
    "print(f\"Test 1: {'PASSED' if result1 == 12 else 'FAILED'}\")"
   ]
  },
  {
   "cell_type": "markdown",
   "metadata": {},
   "source": [
    "## Test Case 2: [1, 2, 3, 1]"
   ]
  },
  {
   "cell_type": "code",
   "execution_count": null,
   "metadata": {},
   "outputs": [],
   "source": [
    "test2 = [1, 2, 3, 1]\n",
    "result2 = rob_with_visualization(test2)\n",
    "print(f\"\\nExpected: 4, Got: {result2}\")\n",
    "print(f\"Test 2: {'PASSED' if result2 == 4 else 'FAILED'}\")"
   ]
  },
  {
   "cell_type": "markdown",
   "metadata": {},
   "source": [
    "## Test Case 3: [5, 1, 3, 9]"
   ]
  },
  {
   "cell_type": "code",
   "execution_count": null,
   "metadata": {},
   "outputs": [],
   "source": [
    "test3 = [5, 1, 3, 9]\n",
    "result3 = rob_with_visualization(test3)\n",
    "print(f\"\\nExpected: 14, Got: {result3}\")\n",
    "print(f\"Test 3: {'PASSED' if result3 == 14 else 'FAILED'}\")"
   ]
  },
  {
   "cell_type": "markdown",
   "metadata": {},
   "source": [
    "## Additional Test Cases"
   ]
  },
  {
   "cell_type": "code",
   "execution_count": null,
   "metadata": {},
   "outputs": [],
   "source": [
    "# Edge cases\n",
    "test_cases = [\n",
    "    ([5], 5),\n",
    "    ([1, 2], 2),\n",
    "    ([2, 1, 1, 2], 4),\n",
    "    ([100, 1, 1, 100], 200)\n",
    "]\n",
    "\n",
    "print(\"Testing edge cases:\")\n",
    "print(\"=\" * 30)\n",
    "\n",
    "for i, (nums, expected) in enumerate(test_cases, 1):\n",
    "    result = rob(nums)\n",
    "    status = \"PASSED\" if result == expected else \"FAILED\"\n",
    "    print(f\"Test {i}: nums={nums}, expected={expected}, got={result} - {status}\")"
   ]
  },
  {
   "cell_type": "markdown",
   "metadata": {},
   "source": [
    "## Algorithm Analysis\n",
    "\n",
    "### Key Insights:\n",
    "1. **Recurrence Relation**: `dp[i] = max(dp[i-1], dp[i-2] + nums[i])`\n",
    "2. **Two Choices**: For each house, either rob it (and skip previous) or skip it\n",
    "3. **Space Optimization**: Only need to track last two values\n",
    "\n",
    "### Complexity:\n",
    "- **Time Complexity**: O(n) - single pass through array\n",
    "- **Space Complexity**: O(1) - only using constant extra space\n",
    "\n",
    "### Pattern Recognition:\n",
    "This is a classic **linear dynamic programming** problem where:\n",
    "- Each decision affects future decisions\n",
    "- Optimal substructure exists\n",
    "- Can be solved bottom-up efficiently"
   ]
  }
 ],
 "metadata": {
  "kernelspec": {
   "display_name": "Python 3",
   "language": "python",
   "name": "python3"
  },
  "language_info": {
   "codemirror_mode": {
    "name": "ipython",
    "version": 3
   },
   "file_extension": ".py",
   "name": "python",
   "nbconvert_exporter": "python",
   "pygments_lexer": "ipython3",
   "version": "3.12.3"
  }
 },
 "nbformat": 4,
 "nbformat_minor": 4
}
